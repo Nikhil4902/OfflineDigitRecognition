{
 "cells": [
  {
   "cell_type": "markdown",
   "id": "23fa6c8d",
   "metadata": {},
   "source": [
    "# OFFLINE DIGIT RECOGNITION"
   ]
  },
  {
   "cell_type": "markdown",
   "id": "9f07a98f",
   "metadata": {},
   "source": [
    "# Libraries"
   ]
  },
  {
   "cell_type": "code",
   "execution_count": 1,
   "id": "bd24b2ca",
   "metadata": {},
   "outputs": [],
   "source": [
    "import numpy as np\n",
    "import pandas as pd\n",
    "import matplotlib.pyplot as plt\n",
    "import idx2numpy\n",
    "import math as m\n",
    "import time\n",
    "from sklearn.model_selection import train_test_split\n",
    "from sklearn.utils import shuffle\n",
    "from sklearn.neighbors import KNeighborsClassifier\n",
    "from sklearn.naive_bayes import GaussianNB, MultinomialNB\n",
    "from sklearn.linear_model import LogisticRegression\n",
    "from sklearn.svm import LinearSVC,SVC\n",
    "from sklearn.tree import DecisionTreeClassifier\n",
    "from sklearn.ensemble import RandomForestClassifier\n",
    "import cv2 as cv"
   ]
  },
  {
   "cell_type": "markdown",
   "id": "5cec19ec",
   "metadata": {},
   "source": [
    "# KNN Class"
   ]
  },
  {
   "cell_type": "code",
   "execution_count": 2,
   "id": "2119fadd",
   "metadata": {},
   "outputs": [],
   "source": [
    "class k_nearest_neighbour:\n",
    "    def __init__(self,K):\n",
    "        self.K=K\n",
    "    \n",
    "    def fit(self,data,labels):\n",
    "        self.data=data\n",
    "        self.label=labels\n",
    "    \n",
    "    def euclidean_distance(self,row2,row1):\n",
    "        return np.linalg.norm(row1-row2)\n",
    "    \n",
    "    def get_neighbors(self,data,label,test_row):\n",
    "        dist=[]\n",
    "        for i in range(data.shape[0]):\n",
    "            dist.append([data[i],label[i],self.euclidean_distance(test_row,data[i])])\n",
    "        dist.sort(key = lambda x : x[2])\n",
    "        neighbours=[]\n",
    "        neighbours=np.array(dist[:self.K],dtype = object)\n",
    "        return neighbours\n",
    "        \n",
    "    def predict_classification(self,neighbours):   \n",
    "        a = []\n",
    "        for i in neighbours:\n",
    "            a.append(i[1])\n",
    "        prediction=max(set(a),key = a.count)\n",
    "        return prediction\n",
    "                \n",
    "    def predict(self,data_test):\n",
    "        pred_label=np.zeros(data_test.shape[0])\n",
    "        for i in range(data_test.shape[0]):\n",
    "            neig=self.get_neighbors(self.data,self.label, data_test[i,:])\n",
    "            pred_label[i]=self.predict_classification(neig)\n",
    "        return pred_label\n",
    "\n",
    "    def accuracy(self,test_label,pred_label):        \n",
    "        \n",
    "        count=0\n",
    "        for i in range(len(pred_label)):\n",
    "            if(int(test_label[i])==int(pred_label[i])):\n",
    "                count+=1\n",
    "        return count/len(pred_label)"
   ]
  },
  {
   "cell_type": "markdown",
   "id": "b8028b82",
   "metadata": {},
   "source": [
    "# Naive Bayes Class"
   ]
  },
  {
   "cell_type": "code",
   "execution_count": 3,
   "id": "8b1ef637",
   "metadata": {},
   "outputs": [],
   "source": [
    "class NaiveBayes:\n",
    "    def __init__(self):\n",
    "        return\n",
    "    def class_dictionary(self,data,labels):\n",
    "        class_dict={}\n",
    "        unique=np.unique(labels)\n",
    "        for i in unique:\n",
    "            class_dict[int(i)]=data[np.where(labels==i)]\n",
    "        return class_dict\n",
    "    \n",
    "    def get_variables(self,class_dict):\n",
    "        var_dict = {}\n",
    "        for i in class_dict:\n",
    "            a=np.array(class_dict[i])\n",
    "            l,s=a.shape\n",
    "            M=[np.mean(a[:,k]) for k in range(s)]\n",
    "            SD=np.sqrt([sum([(k[j]-M[j])**2 for k in a])/l for j in range(s)])\n",
    "            var_dict[int(i)]=[(M[k],SD[k],l) for k in range(s)]\n",
    "        return var_dict\n",
    "    \n",
    "    def calculate_probability(self,x,mean,stdev):\n",
    "        if stdev == 0.0:\n",
    "            if x==mean:\n",
    "                return 1\n",
    "            else:\n",
    "                return 10**(-300)\n",
    "        else:\n",
    "            exponent = m.exp(-((x-mean)**2 / (2 * stdev**2 )))\n",
    "            a = 1 / (m.sqrt(2 * m.pi) * stdev) * exponent\n",
    "            if a==0.0:\n",
    "                return 10**(-300)\n",
    "            else:\n",
    "                return a\n",
    "    \n",
    "    def calculate_class_probabilities(self,summaries,row):\n",
    "        probabilities = {}\n",
    "        pts=sum([i[0][2] for i in summaries.values()])\n",
    "        for class_label,class_params in summaries.items():\n",
    "            probabilities[class_label] = m.log(summaries[class_label][0][2]/pts)\n",
    "            for i in range(len(class_params)):\n",
    "                mu,s,l = class_params[i]\n",
    "                probabilities[class_label] += m.log(self.calculate_probability(row[i],mu,s))\n",
    "        return probabilities\n",
    "    \n",
    "    def fit(self,data,labels):\n",
    "        self.data=data\n",
    "        self.labels=labels\n",
    "        self.class_dict = self.class_dictionary(self.data,self.labels)\n",
    "        self.var_dict = self.get_variables(self.class_dict)\n",
    "        self.mean_vectors=[]\n",
    "        for i in self.var_dict:\n",
    "            a=[]\n",
    "            for j in self.var_dict[i]:\n",
    "                a.append(j[0])\n",
    "            self.mean_vectors.append(a)\n",
    "        self.mean_vectors=np.array(self.mean_vectors)\n",
    "        self.n_classes = len(set(labels))\n",
    "            \n",
    "\n",
    "    def predict(self,data):\n",
    "        self.l_pred=[]\n",
    "        self.log_prob_pred=[]\n",
    "        for i in data:\n",
    "            p=self.calculate_class_probabilities(self.var_dict,i)\n",
    "            self.log_prob_pred.append(p)\n",
    "            self.l_pred.append(max(p,key=lambda x:p[x]))\n",
    "        return self.l_pred\n",
    "    \n",
    "    def accuracy(self,y_tr,y_pred):\n",
    "        s=0\n",
    "        for i in range(len(y_tr)):\n",
    "            if int(y_tr[i])==y_pred[i]:\n",
    "                s+=1\n",
    "        return s/len(y_tr)\n"
   ]
  },
  {
   "cell_type": "markdown",
   "id": "6068da3c",
   "metadata": {},
   "source": [
    "# Logistic Regression Class"
   ]
  },
  {
   "cell_type": "code",
   "execution_count": 4,
   "id": "fd88892e",
   "metadata": {},
   "outputs": [],
   "source": [
    "def sigmoid(x):\n",
    "    return 1/(1+np.exp(-x))\n",
    "\n",
    "class Logistic_Regression():\n",
    "\n",
    "    def __init__(self, lr=0.001, n_iters=1000,func=\"sigmoid\",eps=10**(-7)):\n",
    "        if func.lower()==\"sigmoid\" or func.lower()==\"tanh\":\n",
    "            self.func=func.lower()\n",
    "        else:\n",
    "            raise AttributeError(\"Invalid logistic function.Valid functions are 'Sigmoid' and 'Tanh'\")\n",
    "        self.lr = lr\n",
    "        self.n_iters = n_iters\n",
    "        self.eps=eps\n",
    "        \n",
    "    def Error(self,pred,y):\n",
    "        return -1*np.mean(y*np.log(pred+10**(-30))+(1-y)*np.log(1-pred+10**(-30)))\n",
    "\n",
    "    def fit(self, X, y):\n",
    "        n_samples, n_features = X.shape\n",
    "        self.weights = np.zeros(X.shape[1])\n",
    "        self.data=X\n",
    "        self.X=np.concatenate((X.T,np.ones((1,X.shape[0])))).T\n",
    "        self.error=[100]\n",
    "        self.converged=False\n",
    "\n",
    "        for i in range(self.n_iters):\n",
    "            linear_pred = np.dot(X, self.weights)\n",
    "            if self.func==\"sigmoid\":\n",
    "                predictions = sigmoid(linear_pred)\n",
    "            elif self.func==\"tanh\":\n",
    "                predictions = (1+np.tanh(linear_pred))/2\n",
    "            self.error.append(self.Error(predictions,y))\n",
    "            self.weights = self.weights - self.lr*((1/X.shape[0]) * np.dot(X.T, (predictions - y)))\n",
    "            if self.error[-1]<=self.eps:\n",
    "                self.converged=True\n",
    "                break\n",
    "        self.error.pop(0)\n",
    "    def predict(self, X):\n",
    "        linear_pred = np.dot(X, self.weights)\n",
    "        if self.func==\"sigmoid\":\n",
    "            y_pred = sigmoid(linear_pred)\n",
    "        elif self.func==\"tanh\":\n",
    "            y_pred = (1+np.tanh(linear_pred))/2\n",
    "        self.class_pred = [0 if y<0.5 else 1 for y in y_pred]\n",
    "        return self.class_pred\n",
    "    \n",
    "    def accuracy(self, y_pred, y_test):\n",
    "        return np.sum(y_pred==y_test)/len(y_test)"
   ]
  },
  {
   "cell_type": "markdown",
   "id": "925e145c",
   "metadata": {},
   "source": [
    "# Support Vector Machine Class"
   ]
  },
  {
   "cell_type": "code",
   "execution_count": 5,
   "id": "529929ef",
   "metadata": {},
   "outputs": [],
   "source": [
    "class SupportVectorMachine:\n",
    "    def __init__(self,lr=0.01,n_iter=1000,Lambda=1):\n",
    "        self.lr=lr\n",
    "        self.n_iter=n_iter\n",
    "        self.Lambda=Lambda\n",
    "    \n",
    "    def update_weights(self):\n",
    "        for i,x_i in enumerate(self.X):\n",
    "            y_i=self.y[i]\n",
    "            if y_i*(np.dot(x_i,self.w)-self.b)>=1:\n",
    "                self.w = self.w - 2 * self.lr * self.Lambda * self.w\n",
    "            else:\n",
    "                self.w = self.w - self.lr * (2 * self.Lambda * self.w - x_i * y_i)\n",
    "                self.b = self.b - self.lr * y_i\n",
    "    def fit(self,X,y):\n",
    "        self.X=X\n",
    "        a=y.copy()\n",
    "        for i in range(len(a)):\n",
    "            if a[i]<=0:\n",
    "                a[i]=-1\n",
    "            else:\n",
    "                a[i]=1\n",
    "        self.y=a\n",
    "        self.n_fv,self.n_f = X.shape\n",
    "        self.w=np.zeros(self.n_f)\n",
    "        self.b=0\n",
    "        for i in range(self.n_iter):\n",
    "            self.update_weights()\n",
    "            \n",
    "    def predict(self,X):\n",
    "        self.X_t=X\n",
    "        pred_lab=np.sign(np.dot(self.X_t,self.w) - self.b)\n",
    "        for i in range(len(pred_lab)):\n",
    "            if pred_lab[i] == -1:\n",
    "                pred_lab[i]=0\n",
    "        self.pred_lab=pred_lab\n",
    "        return pred_lab\n",
    "    \n",
    "    def accuracy(self,tr_lab,pr_lab):\n",
    "        s=0\n",
    "        l=len(tr_lab)\n",
    "        for i,j in zip(tr_lab,pr_lab):\n",
    "            if int(i)==int(j):\n",
    "                s+=1\n",
    "        return s/l\n",
    "    \n",
    "    def accuracy(self,tr_lab):\n",
    "        s=0\n",
    "        l=len(tr_lab)\n",
    "        for i,j in zip(tr_lab,self.pred_lab):\n",
    "            if int(i)==int(j):\n",
    "                s+=1\n",
    "        return s/l"
   ]
  },
  {
   "cell_type": "markdown",
   "id": "72005758",
   "metadata": {},
   "source": [
    "# Decision Tree Class"
   ]
  },
  {
   "cell_type": "code",
   "execution_count": 6,
   "id": "072abbe0",
   "metadata": {},
   "outputs": [],
   "source": [
    "class node:\n",
    "    def __init__(self,feature=None,threshold=None,left=None,right=None,value=None):\n",
    "        self.feature=feature\n",
    "        self.threshold=threshold\n",
    "        self.left=left\n",
    "        self.right=right\n",
    "        self.value=value\n",
    "    \n",
    "    def is_leaf_node(self):\n",
    "        return self.value is not None\n",
    "\n",
    "class Decision_Tree:\n",
    "    def __init__(self,min_samples=2,max_depth=100,n_features=None):\n",
    "        self.min_samples=min_samples\n",
    "        self.max_depth=max_depth\n",
    "        self.n_features=n_features\n",
    "        self.root=None\n",
    "        \n",
    "    def most_common_lab(self,y):\n",
    "        buff=np.unique(y)\n",
    "        y=y.tolist()\n",
    "        return max(buff,key=y.count)\n",
    "    \n",
    "    def entropy(self,y):\n",
    "        u,c=np.unique(y,return_counts=True)\n",
    "        prob=c/len(y)\n",
    "        return np.sum([-1*p*np.log2(p) for p in prob if p>0])\n",
    "    \n",
    "    def split(self,X_col,thr):\n",
    "        left_idx=np.argwhere(X_col<=thr).reshape(-1)\n",
    "        right_idx=np.argwhere(X_col>thr).reshape(-1)\n",
    "        return left_idx,right_idx\n",
    "    \n",
    "    def find_gain(self,X_col,y,thr):\n",
    "        p_entropy = self.entropy(y)\n",
    "        l_idx,r_idx = self.split(X_col,thr)\n",
    "        l=len(l_idx)\n",
    "        r=len(r_idx)\n",
    "        t=len(y)\n",
    "        if(l==0 or r==0):\n",
    "            return 0\n",
    "        else:\n",
    "            l_entropy = self.entropy(y[l_idx])\n",
    "            r_entropy = self.entropy(y[r_idx])\n",
    "            c_entropy = (l*l_entropy+r*r_entropy)/t\n",
    "            return p_entropy - c_entropy\n",
    "    \n",
    "    def find_best_split(self,X,y,f_idx):\n",
    "        gain=-1\n",
    "        split_idx=None\n",
    "        split_threshold=None\n",
    "        \n",
    "        for f in f_idx:\n",
    "            X_col=X[:,f]\n",
    "            possible_thresholds=np.unique(X_col)\n",
    "            for t in possible_thresholds:\n",
    "                g=self.find_gain(X_col,y,t)\n",
    "                if g>gain:\n",
    "                    gain=g\n",
    "                    split_idx=f\n",
    "                    split_threshold=t\n",
    "        return split_idx,split_threshold\n",
    "                \n",
    "        \n",
    "    \n",
    "    def grow_tree(self,X,y,depth=0):\n",
    "        n_s,n_f=X.shape\n",
    "        lab=np.unique(y)\n",
    "        n_lab=len(lab)\n",
    "        \n",
    "        if(n_lab==1 or depth>=self.max_depth or n_s<self.min_samples):\n",
    "            leaf_value=self.most_common_lab(y)\n",
    "            return node(value=leaf_value)\n",
    "        if(n_f==self.n_features):\n",
    "            f_idx=np.arange(n_f)\n",
    "        else:\n",
    "            f_idx=np.random.choice(n_f,self.n_features,replace=False)\n",
    "        \n",
    "        b_f,b_thr = self.find_best_split(X,y,f_idx)\n",
    "        \n",
    "        l_idx,r_idx = self.split(X[:,b_f],b_thr)\n",
    "        \n",
    "        left_subtree=self.grow_tree(X[l_idx,:],y[l_idx],depth+1)\n",
    "        right_subtree=self.grow_tree(X[r_idx,:],y[r_idx],depth+1)\n",
    "        return node(b_f,b_thr,left_subtree,right_subtree)\n",
    "        \n",
    "    def fit(self,X,y):\n",
    "        self.n_features=X.shape[1] if not self.n_features else min(X.shape[1],self.n_features)\n",
    "        self.root=self.grow_tree(X,y)\n",
    "        \n",
    "    def make_prediction(self,x,node):\n",
    "        if node.is_leaf_node():\n",
    "            return node.value\n",
    "        \n",
    "        else:\n",
    "            if x[node.feature] <= node.threshold:\n",
    "                return self.make_prediction(x,node.left)\n",
    "            else:\n",
    "                return self.make_prediction(x,node.right)\n",
    "    \n",
    "    def predict(self,X_test):\n",
    "        \n",
    "        y_pred = [self.make_prediction(x,self.root) for x in X_test]\n",
    "        \n",
    "        return y_pred"
   ]
  },
  {
   "cell_type": "markdown",
   "id": "ecc95773",
   "metadata": {},
   "source": [
    "# Random Forest Class"
   ]
  },
  {
   "cell_type": "code",
   "execution_count": 7,
   "id": "7d0fbc6f",
   "metadata": {},
   "outputs": [],
   "source": [
    "class Random_Forest:\n",
    "    def __init__(self,n_trees,n_features,min_samples=2,max_depth=10):\n",
    "        self.min_samples=min_samples\n",
    "        self.max_depth=max_depth\n",
    "        self.n_features=n_features\n",
    "        self.n_trees=n_trees\n",
    "        self.forest=[]\n",
    "        \n",
    "    def fit(self,X,y):\n",
    "        for i in range(self.n_trees):\n",
    "            tree = Decision_Tree(min_samples=self.min_samples,max_depth=self.max_depth,n_features=self.n_features)\n",
    "            boot_idx=np.random.choice(X.shape[0],X.shape[0])\n",
    "            boot_X=X[boot_idx]\n",
    "            boot_y=y[boot_idx]\n",
    "            tree.fit(boot_X,boot_y)\n",
    "            self.forest.append(tree)\n",
    "    def predict(self,X_test):\n",
    "        n_t=X_test.shape[0]\n",
    "        y=np.array([np.array(self.forest[i].predict(X_test)).reshape(n_t,1) for i in range(self.n_trees)])\n",
    "        Y=y.T.tolist()\n",
    "        Y=Y[0]\n",
    "        y_pred=[max(Y[i],key=Y[i].count) for i in range(n_t)]\n",
    "        return y_pred"
   ]
  },
  {
   "cell_type": "markdown",
   "id": "d3ac6196",
   "metadata": {},
   "source": [
    "# DATA"
   ]
  },
  {
   "cell_type": "code",
   "execution_count": 8,
   "id": "b8ec0806",
   "metadata": {},
   "outputs": [],
   "source": [
    "img_train_path=\"mnist_data/train-images-idx3-ubyte\"\n",
    "label_train_path=\"mnist_data/train-labels-idx1-ubyte\"\n",
    "\n",
    "img_test_path = \"mnist_data/t10k-images-idx3-ubyte\"\n",
    "label_test_path = \"mnist_data/t10k-labels-idx1-ubyte\"\n",
    "\n",
    "Images_train = idx2numpy.convert_from_file(img_train_path)\n",
    "Labels_train = idx2numpy.convert_from_file(label_train_path)\n",
    "\n",
    "Images_test = idx2numpy.convert_from_file(img_test_path)\n",
    "Labels_test = idx2numpy.convert_from_file(label_test_path)\n",
    "\n",
    "Images_train=Images_train.reshape((Images_train.shape[0],784))\n",
    "Images_test=Images_test.reshape((Images_test.shape[0],784))\n",
    "\n",
    "ma,mi=np.max(Images_train),np.min(Images_train)\n",
    "Images_train=(Images_train-mi)/(ma-mi)\n",
    "ma,mi=np.max(Images_test),np.min(Images_test)\n",
    "Images_test=(Images_test-mi)/(ma-mi)\n",
    "\n",
    "Images_train=Images_train[:18000]\n",
    "Labels_train=Labels_train[:18000]\n",
    "Images_test=Images_test[:2000]\n",
    "Labels_test=Labels_test[:2000]"
   ]
  },
  {
   "cell_type": "code",
   "execution_count": 9,
   "id": "9df8d241",
   "metadata": {},
   "outputs": [],
   "source": [
    "data_dict={\"KNN\":[-1,-1,-1],\"NB\":[-1,-1,-1],\"LR\":[-1,-1,-1],\"SVM\":[-1,-1,-1],\"DT\":[-1,-1,-1],\"RF\":[-1,-1,-1]}"
   ]
  },
  {
   "cell_type": "markdown",
   "id": "fe820d85",
   "metadata": {},
   "source": [
    "# Implementing KNN"
   ]
  },
  {
   "cell_type": "code",
   "execution_count": 10,
   "id": "49184f78",
   "metadata": {},
   "outputs": [],
   "source": [
    "def euclidean_distance(row1, row2):\n",
    "    return np.linalg.norm(row1-row2)\n",
    "\n",
    "def get_neighbors(train,label_train, test_row, num_neighbors):\n",
    "    dist=[]\n",
    "    for i in range(train.shape[0]):\n",
    "        dist.append([train[i],label_train[i],euclidean_distance(test_row,train[i])])\n",
    "    dist.sort(key = lambda x : x[2])\n",
    "    neighbours=[]\n",
    "    neighbours=np.array(dist[:num_neighbors],dtype = object)\n",
    "    return neighbours\n",
    "\n",
    "def predict_classification(neighbours):\n",
    "    a = []\n",
    "    for i in neighbours:\n",
    "        a.append(i[1])\n",
    "    prediction=max(set(a),key = a.count)\n",
    "    return prediction\n",
    "start=time.time()\n",
    "pts=35\n",
    "pred_label=np.zeros(Images_test.shape[0])\n",
    "for i in range(Images_test.shape[0]):\n",
    "    neig=get_neighbors(Images_train,Labels_train, Images_test[i,:], pts)\n",
    "    pred_label[i]=predict_classification(neig)\n",
    "end=time.time()"
   ]
  },
  {
   "cell_type": "code",
   "execution_count": 11,
   "id": "f497a3ea",
   "metadata": {},
   "outputs": [
    {
     "name": "stdout",
     "output_type": "stream",
     "text": [
      "Testing time : 0.0h 3.0m 22.29980707168579s\n",
      "Accuracy : 90.60000000000001%\n"
     ]
    }
   ],
   "source": [
    "knn_accuracy=(len(np.where(pred_label == Labels_test)[0])/float(len(Labels_test)))*100\n",
    "knn_time=t=end-start if end-start>10**(-7) else 0\n",
    "t=knn_time\n",
    "print(f\"Testing time : {t//3600}h {t//60-(t//3600)*60}m {t-(t//60-(t//3600)*60)*60}s\")\n",
    "print(f\"Accuracy : {knn_accuracy}%\")\n",
    "data_dict[\"KNN\"][0]=0\n",
    "data_dict[\"KNN\"][1]=t\n",
    "data_dict[\"KNN\"][2]=knn_accuracy"
   ]
  },
  {
   "cell_type": "markdown",
   "id": "0ac44e4e",
   "metadata": {},
   "source": [
    "# Implementing Naive Bayes"
   ]
  },
  {
   "cell_type": "code",
   "execution_count": 12,
   "id": "45239922",
   "metadata": {},
   "outputs": [
    {
     "name": "stdout",
     "output_type": "stream",
     "text": [
      "Traininging time : 0.0h 0.0m 7.09204626083374s\n"
     ]
    }
   ],
   "source": [
    "start=time.time()\n",
    "nb=NaiveBayes()\n",
    "nb.fit(Images_train,Labels_train)\n",
    "end=time.time()\n",
    "t=end-start if end-start>10**(-7) else 0\n",
    "print(f\"Traininging time : {t//3600}h {t//60-(t//3600)*60}m {t-(t//60-(t//3600)*60)*60}s\")\n",
    "data_dict[\"NB\"][0]=t"
   ]
  },
  {
   "cell_type": "code",
   "execution_count": 13,
   "id": "7dfe8da5",
   "metadata": {},
   "outputs": [
    {
     "name": "stdout",
     "output_type": "stream",
     "text": [
      "Testing time : 0.0h 0.0m 20.250720977783203s\n"
     ]
    }
   ],
   "source": [
    "start=time.time()\n",
    "nb_pred=nb.predict(Images_test)\n",
    "end=time.time()\n",
    "t=end-start if end-start>10**(-7) else 0\n",
    "print(f\"Testing time : {t//3600}h {t//60-(t//3600)*60}m {t-(t//60-(t//3600)*60)*60}s\")\n",
    "data_dict[\"NB\"][1]=t"
   ]
  },
  {
   "cell_type": "code",
   "execution_count": 14,
   "id": "29b87f19",
   "metadata": {},
   "outputs": [
    {
     "name": "stdout",
     "output_type": "stream",
     "text": [
      "Accuracy : 73.55000000000001%\n"
     ]
    }
   ],
   "source": [
    "nb_accuracy=nb.accuracy(Labels_test,nb_pred)\n",
    "print(f\"Accuracy : {nb_accuracy*100}%\")\n",
    "data_dict[\"NB\"][2]=nb_accuracy*100"
   ]
  },
  {
   "cell_type": "markdown",
   "id": "1df9d09d",
   "metadata": {},
   "source": [
    "# Implementing Logistic Regression"
   ]
  },
  {
   "cell_type": "code",
   "execution_count": 15,
   "id": "f5b6fb5e",
   "metadata": {},
   "outputs": [
    {
     "name": "stdout",
     "output_type": "stream",
     "text": [
      "Acccuracy : 95.8%\n"
     ]
    }
   ],
   "source": [
    "Images = idx2numpy.convert_from_file('mnist_data/t10k-images-idx3-ubyte')\n",
    "Labels = idx2numpy.convert_from_file('mnist_data/t10k-labels-idx1-ubyte')\n",
    "\n",
    "Images=Images.reshape((Images.shape[0],784))\n",
    "\n",
    "Images_train = Images[:-1000]\n",
    "Labels_train = Labels[:-1000]\n",
    "\n",
    "Images_test = Images[-1000:]\n",
    "Labels_test = Labels[-1000:]\n",
    "\n",
    "idx_labels_0=np.where(Labels_train==2)\n",
    "idx_labels_0=idx_labels_0[0]\n",
    "Im_cl_0=Images_train[idx_labels_0]\n",
    "Lb_cl_0=Labels_train[idx_labels_0]\n",
    "\n",
    "idx_labels_1=np.where(Labels_train!=2)\n",
    "idx_labels_1=idx_labels_1[0]\n",
    "Im_cl_1=Images_train[idx_labels_1]\n",
    "Lb_cl_1=Labels_train[idx_labels_1]\n",
    "\n",
    "d=np.concatenate((Im_cl_0,Im_cl_1))\n",
    "l=np.concatenate((Lb_cl_0,Lb_cl_1))\n",
    "l=np.concatenate((np.zeros(Lb_cl_0.shape[0]),np.ones(Lb_cl_1.shape[0])))\n",
    "\n",
    "lr=Logistic_Regression(func=\"tanh\")\n",
    "lr.fit(d,l)\n",
    "\n",
    "d2=Images_test[np.where(Labels_test==2)]\n",
    "d3=Images_test[np.where(Labels_test!=2)]\n",
    "test=np.concatenate((d2,d3))\n",
    "test_l=np.concatenate((np.zeros((d2.shape[0])),np.ones(d3.shape[0])))\n",
    "pred=lr.predict(test.reshape(test.shape[0],784))\n",
    "Lreg=(len(np.where(pred==test_l)[0])/len(pred))\n",
    "print(f\"Acccuracy : {Lreg*100}%\")"
   ]
  },
  {
   "cell_type": "code",
   "execution_count": 16,
   "id": "923bcb47",
   "metadata": {},
   "outputs": [
    {
     "name": "stdout",
     "output_type": "stream",
     "text": [
      "Training time : 0.0h 1.0m 43.37838101387024s\n"
     ]
    }
   ],
   "source": [
    "start=time.time()\n",
    "models=[]\n",
    "for i in range(10):\n",
    "    l = Labels_train.tolist()\n",
    "    for j in range(len(l)):\n",
    "        if l[j]==i:\n",
    "            l[j]=1\n",
    "        else:\n",
    "            l[j]=0\n",
    "    l=np.array(l)\n",
    "    lr=Logistic_Regression(func=\"tanh\")\n",
    "    lr.fit(Images_train,l)\n",
    "    models.append(lr)\n",
    "end=time.time()\n",
    "\n",
    "t=end-start if end-start>10**(-7) else 0\n",
    "print(f\"Training time : {t//3600}h {t//60-(t//3600)*60}m {t-(t//60-(t//3600)*60)*60}s\")\n",
    "data_dict[\"LR\"][0]=t"
   ]
  },
  {
   "cell_type": "code",
   "execution_count": 17,
   "id": "b2fed528",
   "metadata": {},
   "outputs": [
    {
     "name": "stdout",
     "output_type": "stream",
     "text": [
      "Testing time : 0.0h 0.0m 0.013818979263305664s\n"
     ]
    }
   ],
   "source": [
    "y_pred=[]\n",
    "start=time.time()\n",
    "for i in range(10):\n",
    "    y_pred.append(models[i].predict(Images_test))\n",
    "Y=np.array(y_pred)\n",
    "Y=Y.T\n",
    "end=time.time()\n",
    "t=end-start if end-start>10**(-7) else 0\n",
    "print(f\"Testing time : {t//3600}h {t//60-(t//3600)*60}m {t-(t//60-(t//3600)*60)*60}s\")\n",
    "data_dict[\"LR\"][1]=t"
   ]
  },
  {
   "cell_type": "code",
   "execution_count": 18,
   "id": "e375d758",
   "metadata": {},
   "outputs": [
    {
     "name": "stdout",
     "output_type": "stream",
     "text": [
      "{0: 89, 1: 743, 2: 158, 3: 9, 4: 1, 5: 0, 6: 0, 7: 0, 8: 0, 9: 0}\n",
      "Accuracy : 76.0%\n"
     ]
    }
   ],
   "source": [
    "a=-1*np.ones(len(Labels_test))\n",
    "d={0:0,1:0,2:0,3:0,4:0,5:0,6:0,7:0,8:0,9:0}\n",
    "for i in range(len(Y)):\n",
    "    k=np.where(Y[i]==1)[0]\n",
    "    d[len(k)]+=1\n",
    "    if len(k) == 0:\n",
    "        a[i]=(np.random.randint(10))\n",
    "    else:\n",
    "        a[i]=np.random.choice(k)\n",
    "print(d)\n",
    "\n",
    "y_pred=a\n",
    "acc=len(np.where(y_pred==Labels_test)[0])/len(y_pred)*100\n",
    "print(f\"Accuracy : {acc}%\")\n",
    "data_dict[\"LR\"][2]=acc"
   ]
  },
  {
   "cell_type": "markdown",
   "id": "bd244011",
   "metadata": {},
   "source": [
    "# Implementing SVM"
   ]
  },
  {
   "cell_type": "code",
   "execution_count": 19,
   "id": "e9d19989",
   "metadata": {},
   "outputs": [],
   "source": [
    "img_train_path=\"mnist_data/train-images-idx3-ubyte\"\n",
    "label_train_path=\"mnist_data/train-labels-idx1-ubyte\"\n",
    "\n",
    "img_test_path = \"mnist_data/t10k-images-idx3-ubyte\"\n",
    "label_test_path = \"mnist_data/t10k-labels-idx1-ubyte\"\n",
    "\n",
    "Images_train = idx2numpy.convert_from_file(img_train_path)\n",
    "Labels_train = idx2numpy.convert_from_file(label_train_path)\n",
    "\n",
    "Images_test = idx2numpy.convert_from_file(img_test_path)\n",
    "Labels_test = idx2numpy.convert_from_file(label_test_path)\n",
    "\n",
    "Images_train=Images_train.reshape((Images_train.shape[0],784))\n",
    "Images_test=Images_test.reshape((Images_test.shape[0],784))\n",
    "\n",
    "ma,mi=np.max(Images_train),np.min(Images_train)\n",
    "Images_train=(Images_train-mi)/(ma-mi)\n",
    "ma,mi=np.max(Images_test),np.min(Images_test)\n",
    "Images_test=(Images_test-mi)/(ma-mi)\n",
    "\n",
    "Images_train=Images_train[:18000]\n",
    "Labels_train=Labels_train[:18000]\n",
    "Images_test=Images_test[:2000]\n",
    "Labels_test=Labels_test[:2000]"
   ]
  },
  {
   "cell_type": "code",
   "execution_count": 20,
   "id": "f44f4f28",
   "metadata": {},
   "outputs": [
    {
     "name": "stdout",
     "output_type": "stream",
     "text": [
      "Training time : 0.0h 39.0m 48.50213289260864s\n"
     ]
    }
   ],
   "source": [
    "start=time.time()\n",
    "Lab=[[] for i in range(len(Labels_test))]\n",
    "models=[[[None] for i in range(10)] for i in range(10)]\n",
    "for k in range(10):\n",
    "    for l in [i for i in range(10) if i!=k]:\n",
    "        i=np.where(Labels_train==k)\n",
    "        j=np.where(Labels_train==l)\n",
    "\n",
    "        I_train=np.concatenate((Images_train[i],Images_train[j]))\n",
    "        L_train=np.concatenate((np.zeros(len(*i)),np.ones(len(*j))))\n",
    "\n",
    "        i=np.where(Labels_test==k)\n",
    "        j=np.where(Labels_test==l)\n",
    "\n",
    "        I_test=np.concatenate((Images_test[i],Images_test[j]))\n",
    "        L_test=np.concatenate((np.zeros(len(*i)),np.ones(len(*j))))\n",
    "\n",
    "        svm=SupportVectorMachine(Lambda=0.001,n_iter=2000)\n",
    "        svm.fit(I_train,L_train)\n",
    "        models[k][l][0]=svm\n",
    "        buf=svm.predict(I_test)\n",
    "        d={0.0:k,1.0:l}\n",
    "        models[k][l].append(d)\n",
    "        a=0\n",
    "        for p in np.concatenate((i[0],j[0])):\n",
    "            Lab[p].append(d[buf[a]])\n",
    "            a+=1\n",
    "end=time.time()\n",
    "t=end-start if end-start>10**(-7) else 0\n",
    "print(f\"Training time : {t//3600}h {t//60-(t//3600)*60}m {t-(t//60-(t//3600)*60)*60}s\")\n",
    "data_dict[\"SVM\"][0]=t"
   ]
  },
  {
   "cell_type": "code",
   "execution_count": 21,
   "id": "3650b76d",
   "metadata": {},
   "outputs": [
    {
     "name": "stdout",
     "output_type": "stream",
     "text": [
      "Testing time : 0.0h 0.0m 0.005207061767578125s\n",
      "Accuracy : 100.0%\n"
     ]
    }
   ],
   "source": [
    "start=time.time()\n",
    "pred_lab=[]\n",
    "for i in range(len(Lab)):\n",
    "    k=Lab[i]\n",
    "    pred_lab.append(max(k,key=k.count))\n",
    "end=time.time()\n",
    "t=end-start if end-start>10**(-7) else 0\n",
    "print(f\"Testing time : {t//3600}h {t//60-(t//3600)*60}m {t-(t//60-(t//3600)*60)*60}s\")\n",
    "data_dict[\"SVM\"][1]=t\n",
    "s=0\n",
    "for i in range(len(Labels_test)):\n",
    "    if pred_lab[i]==Labels_test[i]:\n",
    "        s+=1\n",
    "acc=(s/len(Labels_test)*100)\n",
    "print(f\"Accuracy : {acc}%\")\n",
    "data_dict[\"SVM\"][2]=acc"
   ]
  },
  {
   "cell_type": "markdown",
   "id": "a53a1ec8",
   "metadata": {},
   "source": [
    "# Decision Tree"
   ]
  },
  {
   "cell_type": "code",
   "execution_count": 22,
   "id": "b91ae3a4",
   "metadata": {},
   "outputs": [
    {
     "name": "stdout",
     "output_type": "stream",
     "text": [
      "Training time : 0.0h 22.0m 55.021679162979126s\n"
     ]
    }
   ],
   "source": [
    "dt=Decision_Tree()\n",
    "start=time.time()\n",
    "dt.fit(Images_train,Labels_train)\n",
    "end=time.time()\n",
    "t=end-start if end-start>10**(-7) else 0\n",
    "print(f\"Training time : {t//3600}h {t//60-(t//3600)*60}m {t-(t//60-(t//3600)*60)*60}s\")\n",
    "data_dict[\"DT\"][0]=t"
   ]
  },
  {
   "cell_type": "code",
   "execution_count": 23,
   "id": "8a422cd1",
   "metadata": {},
   "outputs": [
    {
     "name": "stdout",
     "output_type": "stream",
     "text": [
      "Testing time : 0.0h 0.0m 0.013247013092041016s\n",
      "Accuracy : 80.95%\n"
     ]
    }
   ],
   "source": [
    "start=time.time()\n",
    "y_pred=dt.predict(Images_test)\n",
    "end=time.time()\n",
    "t=end-start if end-start>10**(-7) else 0\n",
    "print(f\"Testing time : {t//3600}h {t//60-(t//3600)*60}m {t-(t//60-(t//3600)*60)*60}s\")\n",
    "data_dict[\"DT\"][1]=t\n",
    "acc=len(np.where(y_pred==Labels_test)[0])/len(y_pred)*100\n",
    "print(f\"Accuracy : {acc}%\")\n",
    "data_dict[\"DT\"][2]=acc"
   ]
  },
  {
   "cell_type": "markdown",
   "id": "ae933631",
   "metadata": {},
   "source": [
    "# Random Forest"
   ]
  },
  {
   "cell_type": "code",
   "execution_count": 24,
   "id": "3ce13299",
   "metadata": {},
   "outputs": [
    {
     "name": "stdout",
     "output_type": "stream",
     "text": [
      "Training time : 0.0h 30.0m 39.73367094993591s\n"
     ]
    }
   ],
   "source": [
    "start=time.time()\n",
    "rf=Random_Forest(30,50)\n",
    "rf.fit(Images_train,Labels_train)\n",
    "end=time.time()\n",
    "t=end-start if end-start>10**(-7) else 0\n",
    "print(f\"Training time : {t//3600}h {t//60-(t//3600)*60}m {t-(t//60-(t//3600)*60)*60}s\")\n",
    "data_dict[\"RF\"][0]=t"
   ]
  },
  {
   "cell_type": "code",
   "execution_count": 25,
   "id": "37e5b38a",
   "metadata": {},
   "outputs": [
    {
     "name": "stdout",
     "output_type": "stream",
     "text": [
      "Testing time : 0.0h 0.0m 0.24942708015441895s\n",
      "Accuracy : 91.4%\n"
     ]
    }
   ],
   "source": [
    "start=time.time()\n",
    "y_pred=rf.predict(Images_test)\n",
    "end=time.time()\n",
    "t=end-start if end-start>10**(-7) else 0\n",
    "print(f\"Testing time : {t//3600}h {t//60-(t//3600)*60}m {t-(t//60-(t//3600)*60)*60}s\")\n",
    "data_dict[\"RF\"][1]=t\n",
    "acc=len(np.where(y_pred==Labels_test)[0])/len(y_pred)*100\n",
    "print(f\"Accuracy : {acc}%\")\n",
    "data_dict[\"RF\"][2]=acc"
   ]
  },
  {
   "cell_type": "code",
   "execution_count": 27,
   "id": "391858aa",
   "metadata": {},
   "outputs": [
    {
     "data": {
      "text/plain": [
       "<matplotlib.legend.Legend at 0x7fdb956623a0>"
      ]
     },
     "execution_count": 27,
     "metadata": {},
     "output_type": "execute_result"
    },
    {
     "data": {
      "image/png": "[encoded data removed]",
      "text/plain": [
       "<Figure size 432x288 with 1 Axes>"
      ]
     },
     "metadata": {
      "needs_background": "light"
     },
     "output_type": "display_data"
    },
    {
     "data": {
      "image/png": "[encoded data removed]",
      "text/plain": [
       "<Figure size 432x288 with 1 Axes>"
      ]
     },
     "metadata": {
      "needs_background": "light"
     },
     "output_type": "display_data"
    },
    {
     "data": {
      "image/png": "[encoded data removed]",
      "text/plain": [
       "<Figure size 432x288 with 1 Axes>"
      ]
     },
     "metadata": {
      "needs_background": "light"
     },
     "output_type": "display_data"
    }
   ],
   "source": [
    "Training_times=[i[0] for i in data_dict.values()]\n",
    "Testing_times=[i[1] for i in data_dict.values()]\n",
    "Accuracies=[i[2] for i in data_dict.values()]\n",
    "barwidth=0.25\n",
    "br=np.arange(len(Training_times))\n",
    "plt.figure()\n",
    "plt.bar(br,Training_times,color=\"r\",width=barwidth,edgecolor=\"k\",label=\"Training Times\")\n",
    "plt.xticks([r for r in range(6)],data_dict.keys())\n",
    "plt.legend()\n",
    "plt.figure()\n",
    "plt.bar(br,Testing_times,color=\"g\",width=barwidth,edgecolor=\"k\",label=\"Testing Times\")\n",
    "plt.xticks([r for r in range(6)],data_dict.keys())\n",
    "plt.legend()\n",
    "plt.figure()\n",
    "plt.bar(br,Accuracies,color=\"b\",width=barwidth,edgecolor=\"k\",label=\"Accuracies\")\n",
    "plt.xticks([r for r in range(6)],data_dict.keys())\n",
    "plt.legend()"
   ]
  },
  {
   "cell_type": "markdown",
   "id": "1c6facd5",
   "metadata": {},
   "source": [
    "# Implementation of the Algorithms using Sci-Kit learn Package"
   ]
  },
  {
   "cell_type": "code",
   "execution_count": 28,
   "id": "48c0a2ca",
   "metadata": {},
   "outputs": [],
   "source": [
    "img_train_path=\"mnist_data/train-images-idx3-ubyte\"\n",
    "label_train_path=\"mnist_data/train-labels-idx1-ubyte\"\n",
    "\n",
    "img_test_path = \"mnist_data/t10k-images-idx3-ubyte\"\n",
    "label_test_path = \"mnist_data/t10k-labels-idx1-ubyte\"\n",
    "\n",
    "Images_train = idx2numpy.convert_from_file(img_train_path)\n",
    "Labels_train = idx2numpy.convert_from_file(label_train_path)\n",
    "\n",
    "Images_test = idx2numpy.convert_from_file(img_test_path)\n",
    "Labels_test = idx2numpy.convert_from_file(label_test_path)\n",
    "\n",
    "Images_train=Images_train.reshape((Images_train.shape[0],784))\n",
    "Images_test=Images_test.reshape((Images_test.shape[0],784))\n",
    "\n",
    "ma,mi=np.max(Images_train),np.min(Images_train)\n",
    "Images_train=(Images_train-mi)/(ma-mi)\n",
    "ma,mi=np.max(Images_test),np.min(Images_test)\n",
    "Images_test=(Images_test-mi)/(ma-mi)"
   ]
  },
  {
   "cell_type": "code",
   "execution_count": 29,
   "id": "e32f1ef1",
   "metadata": {},
   "outputs": [],
   "source": [
    "data_dict_skl={\"KNN\":[-1,-1,-1,None],\"GNB\":[-1,-1,-1,None],\"MNB\":[-1,-1,-1,None],\"LR\":[-1,-1,-1,None],\"SVM\":[-1,-1,-1,None],\"DT\":[-1,-1,-1,None],\"RF\":[-1,-1,-1,None]}\n",
    "predictions=[[] for i in range(len(data_dict_skl))]"
   ]
  },
  {
   "cell_type": "markdown",
   "id": "6bd2cb3d",
   "metadata": {},
   "source": [
    "# KNN"
   ]
  },
  {
   "cell_type": "code",
   "execution_count": 30,
   "id": "d58b558b",
   "metadata": {},
   "outputs": [
    {
     "name": "stdout",
     "output_type": "stream",
     "text": [
      "Training time : 0.0h 0.0m 0.06431388854980469s\n"
     ]
    }
   ],
   "source": [
    "K=35\n",
    "start=time.time()\n",
    "KNN=KNeighborsClassifier(n_neighbors=K)\n",
    "KNN.fit(Images_train,Labels_train)\n",
    "end=time.time()\n",
    "t=end-start if end-start>10**(-7) else 0\n",
    "print(f\"Training time : {t//3600}h {t//60-(t//3600)*60}m {t-(t//60-(t//3600)*60)*60}s\")\n",
    "data_dict_skl[\"KNN\"][0]=t"
   ]
  },
  {
   "cell_type": "code",
   "execution_count": 31,
   "id": "e33c951f",
   "metadata": {},
   "outputs": [
    {
     "name": "stdout",
     "output_type": "stream",
     "text": [
      "Testing time : 0.0h 0.0m 18.940880060195923s\n",
      "Accuracy : 95.78%\n"
     ]
    }
   ],
   "source": [
    "start=time.time()\n",
    "KNN_pred=KNN.predict(Images_test)\n",
    "end=time.time()\n",
    "t=end-start if end-start>10**(-7) else 0\n",
    "acc=(len(np.where(KNN_pred==Labels_test)[0])/len(KNN_pred))*100\n",
    "print(f\"Testing time : {t//3600}h {t//60-(t//3600)*60}m {t-(t//60-(t//3600)*60)*60}s\")\n",
    "data_dict_skl[\"KNN\"][1]=t\n",
    "print(f\"Accuracy : {acc}%\")\n",
    "data_dict_skl[\"KNN\"][2]=acc\n",
    "data_dict_skl[\"KNN\"][3]=KNN\n",
    "predictions[0]=0\n",
    "predictions[0]=KNN_pred"
   ]
  },
  {
   "cell_type": "markdown",
   "id": "1410a64f",
   "metadata": {},
   "source": [
    "# Naive Bayes"
   ]
  },
  {
   "cell_type": "code",
   "execution_count": 32,
   "id": "734ddece",
   "metadata": {},
   "outputs": [
    {
     "name": "stdout",
     "output_type": "stream",
     "text": [
      "Training time : 0.0h 0.0m 0.33493924140930176s\n"
     ]
    }
   ],
   "source": [
    "start=time.time()\n",
    "NB=GaussianNB()\n",
    "NB.fit(Images_train,Labels_train)\n",
    "end=time.time()\n",
    "t=end-start if end-start>10**(-7) else 0\n",
    "print(f\"Training time : {t//3600}h {t//60-(t//3600)*60}m {t-(t//60-(t//3600)*60)*60}s\")\n",
    "data_dict_skl[\"GNB\"][0]=t"
   ]
  },
  {
   "cell_type": "code",
   "execution_count": 33,
   "id": "c8aa08cb",
   "metadata": {},
   "outputs": [
    {
     "name": "stdout",
     "output_type": "stream",
     "text": [
      "Testing time : 0.0h 0.0m 0.1720130443572998s\n",
      "Accuracy : 55.58%\n"
     ]
    }
   ],
   "source": [
    "start=time.time()\n",
    "NB_pred=NB.predict(Images_test)\n",
    "end=time.time()\n",
    "acc=(len(np.where(NB_pred==Labels_test)[0])/len(NB_pred))*100\n",
    "t=end-start if end-start>10**(-7) else 0\n",
    "print(f\"Testing time : {t//3600}h {t//60-(t//3600)*60}m {t-(t//60-(t//3600)*60)*60}s\")\n",
    "data_dict_skl[\"GNB\"][1]=t\n",
    "print(f\"Accuracy : {acc}%\")\n",
    "data_dict_skl[\"GNB\"][2]=acc\n",
    "data_dict_skl[\"GNB\"][3]=NB\n",
    "predictions[1]=NB_pred"
   ]
  },
  {
   "cell_type": "code",
   "execution_count": 34,
   "id": "fd692c73",
   "metadata": {},
   "outputs": [
    {
     "name": "stdout",
     "output_type": "stream",
     "text": [
      "Training time : 0.0h 0.0m 0.06583499908447266s\n"
     ]
    }
   ],
   "source": [
    "start=time.time()\n",
    "NB=MultinomialNB()\n",
    "NB.fit(Images_train,Labels_train)\n",
    "end=time.time()\n",
    "t=end-start if end-start>10**(-7) else 0\n",
    "print(f\"Training time : {t//3600}h {t//60-(t//3600)*60}m {t-(t//60-(t//3600)*60)*60}s\")\n",
    "data_dict_skl[\"MNB\"][0]=t"
   ]
  },
  {
   "cell_type": "code",
   "execution_count": 35,
   "id": "8cfaeecb",
   "metadata": {},
   "outputs": [
    {
     "name": "stdout",
     "output_type": "stream",
     "text": [
      "Testing time : 0.0h 0.0m 0.0071048736572265625s\n",
      "Accuracy : 83.57%\n"
     ]
    }
   ],
   "source": [
    "start=time.time()\n",
    "NB_pred=NB.predict(Images_test)\n",
    "end=time.time()\n",
    "acc=(len(np.where(NB_pred==Labels_test)[0])/len(NB_pred))*100\n",
    "t=end-start if end-start>10**(-7) else 0\n",
    "print(f\"Testing time : {t//3600}h {t//60-(t//3600)*60}m {t-(t//60-(t//3600)*60)*60}s\")\n",
    "data_dict_skl[\"MNB\"][1]=t\n",
    "print(f\"Accuracy : {acc}%\")\n",
    "data_dict_skl[\"MNB\"][2]=acc\n",
    "data_dict_skl[\"MNB\"][3]=NB\n",
    "predictions[2]=NB_pred"
   ]
  },
  {
   "cell_type": "markdown",
   "id": "cf397fdd",
   "metadata": {},
   "source": [
    "# Logistic Regression"
   ]
  },
  {
   "cell_type": "code",
   "execution_count": 36,
   "id": "42bd4a11",
   "metadata": {},
   "outputs": [
    {
     "name": "stdout",
     "output_type": "stream",
     "text": [
      "Training time : 0.0h 0.0m 6.109141111373901s\n"
     ]
    },
    {
     "name": "stderr",
     "output_type": "stream",
     "text": [
      "/Users/nikhilsaigorantla/opt/anaconda3/lib/python3.9/site-packages/sklearn/linear_model/_logistic.py:763: ConvergenceWarning: lbfgs failed to converge (status=1):\n",
      "STOP: TOTAL NO. of ITERATIONS REACHED LIMIT.\n",
      "\n",
      "Increase the number of iterations (max_iter) or scale the data as shown in:\n",
      "    https://scikit-learn.org/stable/modules/preprocessing.html\n",
      "Please also refer to the documentation for alternative solver options:\n",
      "    https://scikit-learn.org/stable/modules/linear_model.html#logistic-regression\n",
      "  n_iter_i = _check_optimize_result(\n"
     ]
    }
   ],
   "source": [
    "start=time.time()\n",
    "Lreg = LogisticRegression()\n",
    "Lreg.fit(Images_train,Labels_train)\n",
    "end=time.time()\n",
    "t=end-start if end-start>10**(-7) else 0\n",
    "print(f\"Training time : {t//3600}h {t//60-(t//3600)*60}m {t-(t//60-(t//3600)*60)*60}s\")\n",
    "data_dict_skl[\"LR\"][0]=t"
   ]
  },
  {
   "cell_type": "code",
   "execution_count": 37,
   "id": "0f0a2d54",
   "metadata": {},
   "outputs": [
    {
     "name": "stdout",
     "output_type": "stream",
     "text": [
      "Testing time : 0.0h 0.0m 0.007895946502685547s\n",
      "Accuracy : 92.58%\n"
     ]
    }
   ],
   "source": [
    "start=time.time()\n",
    "Lreg_pred=Lreg.predict(Images_test)\n",
    "end=time.time()\n",
    "t=end-start if end-start>10**(-7) else 0\n",
    "acc=(len(np.where(Lreg_pred==Labels_test)[0])/len(Lreg_pred))*100\n",
    "print(f\"Testing time : {t//3600}h {t//60-(t//3600)*60}m {t-(t//60-(t//3600)*60)*60}s\")\n",
    "data_dict_skl[\"LR\"][1]=t\n",
    "print(f\"Accuracy : {acc}%\")\n",
    "data_dict_skl[\"LR\"][2]=acc\n",
    "data_dict_skl[\"LR\"][3]=Lreg\n",
    "predictions[3]=Lreg_pred"
   ]
  },
  {
   "cell_type": "markdown",
   "id": "78599b79",
   "metadata": {},
   "source": [
    "# Support Vector Machines"
   ]
  },
  {
   "cell_type": "code",
   "execution_count": 38,
   "id": "47ff98cf",
   "metadata": {},
   "outputs": [
    {
     "name": "stdout",
     "output_type": "stream",
     "text": [
      "Training time : 0.0h 4.0m 36.47583293914795s\n"
     ]
    },
    {
     "name": "stderr",
     "output_type": "stream",
     "text": [
      "/Users/nikhilsaigorantla/opt/anaconda3/lib/python3.9/site-packages/sklearn/svm/_base.py:985: ConvergenceWarning: Liblinear failed to converge, increase the number of iterations.\n",
      "  warnings.warn(\"Liblinear failed to converge, increase \"\n"
     ]
    }
   ],
   "source": [
    "start=time.time()\n",
    "svm=LinearSVC()\n",
    "svm.fit(Images_train,Labels_train)\n",
    "end=time.time()\n",
    "t=end-start if end-start>10**(-7) else 0\n",
    "print(f\"Training time : {t//3600}h {t//60-(t//3600)*60}m {t-(t//60-(t//3600)*60)*60}s\")\n",
    "data_dict_skl[\"SVM\"][0]=t"
   ]
  },
  {
   "cell_type": "code",
   "execution_count": 39,
   "id": "9a08b565",
   "metadata": {},
   "outputs": [
    {
     "name": "stdout",
     "output_type": "stream",
     "text": [
      "Testing time : 0.0h 0.0m 0.006512165069580078s\n",
      "Accuracy : 91.82000000000001%\n"
     ]
    }
   ],
   "source": [
    "start=time.time()\n",
    "y_pred=svm.predict(Images_test)\n",
    "end=time.time()\n",
    "t=end-start if end-start>10**(-7) else 0\n",
    "print(f\"Testing time : {t//3600}h {t//60-(t//3600)*60}m {t-(t//60-(t//3600)*60)*60}s\")\n",
    "data_dict_skl[\"SVM\"][1]=t\n",
    "s=0\n",
    "for i in range(len(Labels_test)):\n",
    "    if y_pred[i]==Labels_test[i]:\n",
    "        s+=1\n",
    "acc=(s/len(Labels_test)*100)\n",
    "print(f\"Accuracy : {acc}%\")\n",
    "data_dict_skl[\"SVM\"][2]=acc\n",
    "data_dict_skl[\"SVM\"][3]=svm\n",
    "predictions[4]=y_pred"
   ]
  },
  {
   "cell_type": "markdown",
   "id": "36bb765f",
   "metadata": {},
   "source": [
    "# Decision Tree"
   ]
  },
  {
   "cell_type": "code",
   "execution_count": 40,
   "id": "8f40176d",
   "metadata": {},
   "outputs": [
    {
     "name": "stdout",
     "output_type": "stream",
     "text": [
      "Training time : 0.0h 0.0m 11.617966890335083s\n"
     ]
    }
   ],
   "source": [
    "start=time.time()\n",
    "dt=DecisionTreeClassifier()\n",
    "dt.fit(Images_train,Labels_train)\n",
    "end=time.time()\n",
    "t=end-start if end-start>10**(-7) else 0\n",
    "print(f\"Training time : {t//3600}h {t//60-(t//3600)*60}m {t-(t//60-(t//3600)*60)*60}s\")\n",
    "data_dict_skl[\"DT\"][0]=t"
   ]
  },
  {
   "cell_type": "code",
   "execution_count": 41,
   "id": "eae694f6",
   "metadata": {},
   "outputs": [
    {
     "name": "stdout",
     "output_type": "stream",
     "text": [
      "Testing time : 0.0h 0.0m 0.014184951782226562s\n",
      "Accuracy : 87.87%\n"
     ]
    }
   ],
   "source": [
    "start=time.time()\n",
    "y_pred=dt.predict(Images_test)\n",
    "end=time.time()\n",
    "t=end-start if end-start>10**(-7) else 0\n",
    "print(f\"Testing time : {t//3600}h {t//60-(t//3600)*60}m {t-(t//60-(t//3600)*60)*60}s\")\n",
    "data_dict_skl[\"DT\"][1]=t\n",
    "s=0\n",
    "for i in range(len(Labels_test)):\n",
    "    if y_pred[i]==Labels_test[i]:\n",
    "        s+=1\n",
    "acc=(s/len(Labels_test)*100)\n",
    "print(f\"Accuracy : {acc}%\")\n",
    "data_dict_skl[\"DT\"][2]=acc\n",
    "data_dict_skl[\"DT\"][3]=dt\n",
    "predictions[5]=y_pred"
   ]
  },
  {
   "cell_type": "markdown",
   "id": "b3769406",
   "metadata": {},
   "source": [
    "# Random Forest"
   ]
  },
  {
   "cell_type": "code",
   "execution_count": 42,
   "id": "37950805",
   "metadata": {},
   "outputs": [
    {
     "name": "stdout",
     "output_type": "stream",
     "text": [
      "Training time : 0.0h 1.0m 37.01309776306152s\n"
     ]
    }
   ],
   "source": [
    "start=time.time()\n",
    "rf=RandomForestClassifier()\n",
    "rf.fit(Images_train,Labels_train)\n",
    "end=time.time()\n",
    "t=end-start if end-start>10**(-7) else 0\n",
    "print(f\"Training time : {t//3600}h {t//60-(t//3600)*60}m {t-(t//60-(t//3600)*60)*60}s\")\n",
    "data_dict_skl[\"RF\"][0]=t"
   ]
  },
  {
   "cell_type": "code",
   "execution_count": 43,
   "id": "5886db63",
   "metadata": {},
   "outputs": [
    {
     "name": "stdout",
     "output_type": "stream",
     "text": [
      "Testing time : 0.0h 0.0m 0.19104623794555664s\n",
      "Accuracy : 96.85000000000001%\n"
     ]
    }
   ],
   "source": [
    "start=time.time()\n",
    "y_pred=rf.predict(Images_test)\n",
    "end=time.time()\n",
    "t=end-start if end-start>10**(-7) else 0\n",
    "print(f\"Testing time : {t//3600}h {t//60-(t//3600)*60}m {t-(t//60-(t//3600)*60)*60}s\")\n",
    "data_dict_skl[\"RF\"][1]=t\n",
    "s=0\n",
    "for i in range(len(Labels_test)):\n",
    "    if y_pred[i]==Labels_test[i]:\n",
    "        s+=1\n",
    "acc=(s/len(Labels_test)*100)\n",
    "print(f\"Accuracy : {acc}%\")\n",
    "data_dict_skl[\"RF\"][2]=acc\n",
    "data_dict_skl[\"RF\"][3]=rf\n",
    "predictions[6]=y_pred"
   ]
  },
  {
   "cell_type": "code",
   "execution_count": 45,
   "id": "5be2b731",
   "metadata": {},
   "outputs": [
    {
     "data": {
      "text/plain": [
       "<matplotlib.legend.Legend at 0x7fdb988cec40>"
      ]
     },
     "execution_count": 45,
     "metadata": {},
     "output_type": "execute_result"
    },
    {
     "data": {
      "image/png": "[encoded data removed]",
      "text/plain": [
       "<Figure size 432x288 with 1 Axes>"
      ]
     },
     "metadata": {
      "needs_background": "light"
     },
     "output_type": "display_data"
    },
    {
     "data": {
      "image/png": "[encoded data removed]",
      "text/plain": [
       "<Figure size 432x288 with 1 Axes>"
      ]
     },
     "metadata": {
      "needs_background": "light"
     },
     "output_type": "display_data"
    },
    {
     "data": {
      "image/png": "[encoded data removed]",
      "text/plain": [
       "<Figure size 432x288 with 1 Axes>"
      ]
     },
     "metadata": {
      "needs_background": "light"
     },
     "output_type": "display_data"
    }
   ],
   "source": [
    "Training_times=([i[0] for i in data_dict_skl.values()])\n",
    "Testing_times=([i[1] for i in data_dict_skl.values()])\n",
    "Accuracies=[i[2] for i in data_dict_skl.values()]\n",
    "barwidth=0.4\n",
    "br=np.arange(len(Training_times))\n",
    "plt.bar(br,Training_times,color=\"r\",width=barwidth,edgecolor=\"k\",label=\"Training Times\")\n",
    "plt.xticks([r for r in range(7)],data_dict_skl.keys())\n",
    "plt.legend()\n",
    "plt.figure()\n",
    "plt.bar(br,Testing_times,color=\"g\",width=barwidth,edgecolor=\"k\",label=\"Testing Times\")\n",
    "plt.xticks([r for r in range(7)],data_dict_skl.keys())\n",
    "plt.legend()\n",
    "plt.figure()\n",
    "plt.bar(br,Accuracies,color=\"b\",width=barwidth,edgecolor=\"k\",label=\"Accuracies\")\n",
    "plt.xticks([r for r in range(7)],data_dict_skl.keys())\n",
    "plt.legend()"
   ]
  },
  {
   "cell_type": "code",
   "execution_count": 46,
   "id": "12b77fa3",
   "metadata": {},
   "outputs": [
    {
     "name": "stdout",
     "output_type": "stream",
     "text": [
      "(10000, 7)\n"
     ]
    }
   ],
   "source": [
    "y=np.array(predictions)\n",
    "y = y.T\n",
    "print(y.shape)"
   ]
  },
  {
   "cell_type": "code",
   "execution_count": 47,
   "id": "561a77e9",
   "metadata": {},
   "outputs": [
    {
     "name": "stdout",
     "output_type": "stream",
     "text": [
      "(10000,)\n"
     ]
    }
   ],
   "source": [
    "Y_pred=np.array([max(i,key=list(i).count) for i in y])\n",
    "print(Y_pred.shape)"
   ]
  },
  {
   "cell_type": "code",
   "execution_count": 48,
   "id": "5bb824fd",
   "metadata": {},
   "outputs": [
    {
     "name": "stdout",
     "output_type": "stream",
     "text": [
      "Accuracy : 95.15%\n"
     ]
    }
   ],
   "source": [
    "s=0\n",
    "for i in range(len(Labels_test)):\n",
    "    if Y_pred[i]==Labels_test[i]:\n",
    "        s+=1\n",
    "acc=(s/len(Labels_test)*100)\n",
    "print(f\"Accuracy : {acc}%\")"
   ]
  },
  {
   "cell_type": "code",
   "execution_count": 49,
   "id": "8b8ad52d",
   "metadata": {},
   "outputs": [],
   "source": [
    "trained_models=[j[3] for j in data_dict_skl.values()]"
   ]
  },
  {
   "cell_type": "code",
   "execution_count": 71,
   "id": "b2e603ec",
   "metadata": {},
   "outputs": [
    {
     "name": "stdout",
     "output_type": "stream",
     "text": [
      "[8, 5, 9, 8, 8, 7, 1]\n"
     ]
    },
    {
     "data": {
      "image/png": "[encoded data removed]",
      "text/plain": [
       "<Figure size 432x288 with 1 Axes>"
      ]
     },
     "metadata": {
      "needs_background": "light"
     },
     "output_type": "display_data"
    },
    {
     "data": {
      "image/png": "[encoded data removed]",
      "text/plain": [
       "<Figure size 432x288 with 1 Axes>"
      ]
     },
     "metadata": {
      "needs_background": "light"
     },
     "output_type": "display_data"
    },
    {
     "data": {
      "image/png": "[encoded data removed]",
      "text/plain": [
       "<Figure size 432x288 with 1 Axes>"
      ]
     },
     "metadata": {
      "needs_background": "light"
     },
     "output_type": "display_data"
    },
    {
     "data": {
      "image/png": "[encoded data removed]",
      "text/plain": [
       "<Figure size 432x288 with 1 Axes>"
      ]
     },
     "metadata": {
      "needs_background": "light"
     },
     "output_type": "display_data"
    },
    {
     "data": {
      "image/png": "[encoded data removed]",
      "text/plain": [
       "<Figure size 432x288 with 1 Axes>"
      ]
     },
     "metadata": {
      "needs_background": "light"
     },
     "output_type": "display_data"
    },
    {
     "data": {
      "image/png": "[encoded data removed]",
      "text/plain": [
       "<Figure size 432x288 with 1 Axes>"
      ]
     },
     "metadata": {
      "needs_background": "light"
     },
     "output_type": "display_data"
    },
    {
     "data": {
      "image/png": "[encoded data removed]",
      "text/plain": [
       "<Figure size 432x288 with 1 Axes>"
      ]
     },
     "metadata": {
      "needs_background": "light"
     },
     "output_type": "display_data"
    },
    {
     "data": {
      "image/png": "[encoded data removed]",
      "text/plain": [
       "<Figure size 432x288 with 1 Axes>"
      ]
     },
     "metadata": {
      "needs_background": "light"
     },
     "output_type": "display_data"
    },
    {
     "data": {
      "image/png": "[encoded data removed]",
      "text/plain": [
       "<Figure size 432x288 with 1 Axes>"
      ]
     },
     "metadata": {
      "needs_background": "light"
     },
     "output_type": "display_data"
    },
    {
     "data": {
      "image/png": "[encoded data removed]",
      "text/plain": [
       "<Figure size 432x288 with 1 Axes>"
      ]
     },
     "metadata": {
      "needs_background": "light"
     },
     "output_type": "display_data"
    },
    {
     "data": {
      "image/png": "[encoded data removed]",
      "text/plain": [
       "<Figure size 432x288 with 1 Axes>"
      ]
     },
     "metadata": {
      "needs_background": "light"
     },
     "output_type": "display_data"
    },
    {
     "data": {
      "image/png": "[encoded data removed]",
      "text/plain": [
       "<Figure size 432x288 with 1 Axes>"
      ]
     },
     "metadata": {
      "needs_background": "light"
     },
     "output_type": "display_data"
    },
    {
     "data": {
      "image/png": "[encoded data removed]",
      "text/plain": [
       "<Figure size 432x288 with 1 Axes>"
      ]
     },
     "metadata": {
      "needs_background": "light"
     },
     "output_type": "display_data"
    },
    {
     "data": {
      "image/png": "[encoded data removed]",
      "text/plain": [
       "<Figure size 432x288 with 1 Axes>"
      ]
     },
     "metadata": {
      "needs_background": "light"
     },
     "output_type": "display_data"
    },
    {
     "data": {
      "image/png": "[encoded data removed]",
      "text/plain": [
       "<Figure size 432x288 with 1 Axes>"
      ]
     },
     "metadata": {
      "needs_background": "light"
     },
     "output_type": "display_data"
    }
   ],
   "source": [
    "pred=[]\n",
    "for i in range(16):\n",
    "    img=cv.imread(f\"test_images/digit_{str(i)}.png\")[:,:,0]\n",
    "    plt.figure()\n",
    "    img=np.array(img).reshape(1,784)\n",
    "    img=np.invert(img)\n",
    "    plt.imshow(img.reshape(28,28),cmap=\"gray\")\n",
    "    p=[]\n",
    "    for j in trained_models:\n",
    "        p.append(*j.predict(img))\n",
    "    pred.append(max(p,key=p.count))\n",
    "    plt.title(str(pred[-1]))\n",
    "print(p)"
   ]
  },
  {
   "cell_type": "code",
   "execution_count": null,
   "id": "da88c368",
   "metadata": {},
   "outputs": [],
   "source": []
  }
 ],
 "metadata": {
  "kernelspec": {
   "display_name": "Python 3 (ipykernel)",
   "language": "python",
   "name": "python3"
  },
  "language_info": {
   "codemirror_mode": {
    "name": "ipython",
    "version": 3
   },
   "file_extension": ".py",
   "mimetype": "text/x-python",
   "name": "python",
   "nbconvert_exporter": "python",
   "pygments_lexer": "ipython3",
   "version": "3.11.3"
  }
 },
 "nbformat": 4,
 "nbformat_minor": 5
}
